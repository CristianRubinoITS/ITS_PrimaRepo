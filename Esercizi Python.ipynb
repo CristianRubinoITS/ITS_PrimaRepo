{
 "cells": [
  {
   "cell_type": "code",
   "execution_count": 16,
   "metadata": {},
   "outputs": [
    {
     "name": "stdout",
     "output_type": "stream",
     "text": [
      "[1, 2, 3, 4, 5.0]\n",
      "2\n",
      "John\n"
     ]
    }
   ],
   "source": [
    "# Scalar\n",
    "\n",
    "var_int =10\n",
    "var_bool = True\n",
    "var_float = 10.5\n",
    "var_none = None\n",
    "\n",
    "# sets of values\n",
    "\n",
    "var_str = \"Hello World\"\n",
    "var_list = [1, 2, 3, 4, 5.0]\n",
    "var_turple = (1, 2, 3, 4, 5)\n",
    "var_dict = {\"name\": \"John\", \"age\" : 36}\n",
    "\n",
    "# print values\n",
    "\n",
    "print (var_list)\n",
    "print (var_list[1])\n",
    "\n",
    "print (var_dict[\"name\"])"
   ]
  },
  {
   "cell_type": "code",
   "execution_count": 17,
   "metadata": {},
   "outputs": [
    {
     "name": "stdout",
     "output_type": "stream",
     "text": [
      "[10, True, 10.5]\n"
     ]
    }
   ],
   "source": [
    "var_list2 = [var_int, var_bool, var_float]\n",
    "print (var_list2)"
   ]
  },
  {
   "cell_type": "code",
   "execution_count": 21,
   "metadata": {},
   "outputs": [
    {
     "ename": "SyntaxError",
     "evalue": "incomplete input (3775541462.py, line 4)",
     "output_type": "error",
     "traceback": [
      "\u001b[1;36m  Cell \u001b[1;32mIn[21], line 4\u001b[1;36m\u001b[0m\n\u001b[1;33m    #non con tutti i valori: int(var_str)\u001b[0m\n\u001b[1;37m                                         ^\u001b[0m\n\u001b[1;31mSyntaxError\u001b[0m\u001b[1;31m:\u001b[0m incomplete input\n"
     ]
    }
   ],
   "source": [
    "print(str(var_int))\n",
    "\n",
    "int(str(var_str)\n",
    "\n",
    "#non con tutti i valori: int(var_str)"
   ]
  },
  {
   "cell_type": "code",
   "execution_count": 23,
   "metadata": {},
   "outputs": [],
   "source": [
    "var_float2 = 43.5\n",
    "var_int2 = int(var_float)\n",
    "var_str3 = str(var_float2)\n",
    "var_bool2 = (var_float2 == var_float2)"
   ]
  },
  {
   "cell_type": "code",
   "execution_count": 25,
   "metadata": {},
   "outputs": [
    {
     "name": "stdout",
     "output_type": "stream",
     "text": [
      "20.5\n",
      "-0.5\n",
      "105.0\n",
      "0.9523809523809523\n",
      "1\n",
      "0.9523809523809523\n"
     ]
    }
   ],
   "source": [
    "addizione = var_int + var_float\n",
    "print (addizione)\n",
    "\n",
    "sottrazione= var_int - var_float\n",
    "print (sottrazione)\n",
    "\n",
    "moltiplicazione = var_int * var_float\n",
    "print (moltiplicazione)\n",
    "\n",
    "divisione = var_int / var_float\n",
    "print (divisione)\n",
    "\n",
    "modulo = 10 % 3\n",
    "print (modulo)\n",
    "\n",
    "divisione_intera = 10//3\n",
    "print (divisione)\n"
   ]
  },
  {
   "cell_type": "code",
   "execution_count": 27,
   "metadata": {},
   "outputs": [
    {
     "name": "stdout",
     "output_type": "stream",
     "text": [
      "Hello WorldHello WorldHello World\n",
      "Hello World43.5\n",
      "H\n"
     ]
    },
    {
     "ename": "TypeError",
     "evalue": "string indices must be integers, not 'float'",
     "output_type": "error",
     "traceback": [
      "\u001b[1;31m---------------------------------------------------------------------------\u001b[0m",
      "\u001b[1;31mTypeError\u001b[0m                                 Traceback (most recent call last)",
      "\u001b[1;32mUntitled-1.ipynb Cell 6\u001b[0m line \u001b[0;36m7\n\u001b[0;32m      <a href='vscode-notebook-cell:Untitled-1.ipynb?jupyter-notebook#X10sdW50aXRsZWQ%3D?line=2'>3</a>\u001b[0m \u001b[39mprint\u001b[39m (var_str \u001b[39m+\u001b[39m \u001b[39m\"\u001b[39m\u001b[39m\"\u001b[39m \u001b[39m+\u001b[39m var_str3)\n\u001b[0;32m      <a href='vscode-notebook-cell:Untitled-1.ipynb?jupyter-notebook#X10sdW50aXRsZWQ%3D?line=4'>5</a>\u001b[0m \u001b[39mprint\u001b[39m(var_str[\u001b[39m0\u001b[39m])\n\u001b[1;32m----> <a href='vscode-notebook-cell:Untitled-1.ipynb?jupyter-notebook#X10sdW50aXRsZWQ%3D?line=6'>7</a>\u001b[0m \u001b[39mprint\u001b[39m (var_str[\u001b[39m2.5\u001b[39;49m])\n",
      "\u001b[1;31mTypeError\u001b[0m: string indices must be integers, not 'float'"
     ]
    }
   ],
   "source": [
    "print(var_str*3)\n",
    "\n",
    "print (var_str + \"\" + var_str3)\n",
    "       \n",
    "print(var_str[0])\n",
    "\n",
    "print (var_str[2.5])"
   ]
  },
  {
   "cell_type": "code",
   "execution_count": 33,
   "metadata": {},
   "outputs": [
    {
     "name": "stdout",
     "output_type": "stream",
     "text": [
      "ciao mi chiamoJohne ho36anni\n"
     ]
    }
   ],
   "source": [
    "print(\"ciao mi chiamo\" + var_dict [\"name\"] + \"e ho\" + str(var_dict[\"age\"]) + \"anni\")"
   ]
  },
  {
   "cell_type": "code",
   "execution_count": 37,
   "metadata": {},
   "outputs": [
    {
     "name": "stdout",
     "output_type": "stream",
     "text": [
      "[1, 4, 5.0]\n"
     ]
    }
   ],
   "source": [
    "var_list.remove(2)\n",
    "print (var_list)"
   ]
  },
  {
   "cell_type": "code",
   "execution_count": 39,
   "metadata": {},
   "outputs": [
    {
     "name": "stdout",
     "output_type": "stream",
     "text": [
      "[5.0, 4, 1, 5.0, 4, 1]\n"
     ]
    }
   ],
   "source": [
    "var_list.sort(reverse=True)\n",
    "\n",
    "var_list2 = var_list.copy() + var_list.copy()\n",
    "print (var_list2)"
   ]
  },
  {
   "cell_type": "code",
   "execution_count": 42,
   "metadata": {},
   "outputs": [
    {
     "name": "stdout",
     "output_type": "stream",
     "text": [
      "[5.0, 4, 1]\n"
     ]
    }
   ],
   "source": [
    "numero_elementi_lista = len(var_list)\n",
    "print (var_list)"
   ]
  },
  {
   "cell_type": "code",
   "execution_count": 53,
   "metadata": {},
   "outputs": [
    {
     "name": "stdout",
     "output_type": "stream",
     "text": [
      "hello hello hello you are turning 19 today\n"
     ]
    }
   ],
   "source": [
    "\n",
    "age=19\n",
    "\n",
    "print(\"hello \" * 3 + \"you are turning \" + str(age) + \" today\")"
   ]
  },
  {
   "cell_type": "code",
   "execution_count": 56,
   "metadata": {},
   "outputs": [
    {
     "name": "stdout",
     "output_type": "stream",
     "text": [
      "1.0833333333333333\n"
     ]
    }
   ],
   "source": [
    "a=1/2\n",
    "b=1/3\n",
    "c=1/4\n",
    "print(a + b + c)"
   ]
  },
  {
   "cell_type": "code",
   "execution_count": 62,
   "metadata": {},
   "outputs": [
    {
     "name": "stdout",
     "output_type": "stream",
     "text": [
      "7650000000000000000\n"
     ]
    }
   ],
   "source": [
    "m=85\n",
    "c= 3 * 10 **8\n",
    "energy= m * c **2\n",
    "\n",
    "print(energy)"
   ]
  },
  {
   "cell_type": "code",
   "execution_count": 68,
   "metadata": {},
   "outputs": [
    {
     "ename": "MemoryError",
     "evalue": "",
     "output_type": "error",
     "traceback": [
      "\u001b[1;31m---------------------------------------------------------------------------\u001b[0m",
      "\u001b[1;31mMemoryError\u001b[0m                               Traceback (most recent call last)",
      "\u001b[1;32mUntitled-1.ipynb Cell 14\u001b[0m line \u001b[0;36m6\n\u001b[0;32m      <a href='vscode-notebook-cell:Untitled-1.ipynb?jupyter-notebook#X23sdW50aXRsZWQ%3D?line=2'>3</a>\u001b[0m nome \u001b[39m=\u001b[39m \u001b[39minput\u001b[39m (\u001b[39m\"\u001b[39m\u001b[39minserire il nome utente\u001b[39m\u001b[39m\"\u001b[39m)\n\u001b[0;32m      <a href='vscode-notebook-cell:Untitled-1.ipynb?jupyter-notebook#X23sdW50aXRsZWQ%3D?line=3'>4</a>\u001b[0m peso \u001b[39m=\u001b[39m \u001b[39minput\u001b[39m (\u001b[39m\"\u001b[39m\u001b[39minserire il peso\u001b[39m\u001b[39m\"\u001b[39m)\n\u001b[1;32m----> <a href='vscode-notebook-cell:Untitled-1.ipynb?jupyter-notebook#X23sdW50aXRsZWQ%3D?line=5'>6</a>\u001b[0m energia \u001b[39m=\u001b[39m peso \u001b[39m*\u001b[39;49m (c\u001b[39m*\u001b[39;49m\u001b[39m*\u001b[39;49me)\n\u001b[0;32m      <a href='vscode-notebook-cell:Untitled-1.ipynb?jupyter-notebook#X23sdW50aXRsZWQ%3D?line=7'>8</a>\u001b[0m \u001b[39mprint\u001b[39m (energia)\n",
      "\u001b[1;31mMemoryError\u001b[0m: "
     ]
    }
   ],
   "source": [
    "# codice che richiede all'utente il suo nome e il suo peso e restituisce la sua energia in Joule\n",
    "\n",
    "nome = input (\"inserire il nome utente\")\n",
    "peso = input (\"inserire il peso\")\n",
    "\n",
    "energia = peso * (c**e)\n",
    "\n",
    "print (energia)\n"
   ]
  },
  {
   "cell_type": "code",
   "execution_count": 71,
   "metadata": {},
   "outputs": [
    {
     "name": "stdout",
     "output_type": "stream",
     "text": [
      "Ciao Cristian la tua energia è 5.4e+18\n"
     ]
    }
   ],
   "source": [
    "nome = input(\"inserisci il tuo nome: \")\n",
    "peso = float(input(\"inserisci il tuo peso\"))\n",
    "energia = peso * c **2\n",
    "print(\"Ciao \" + nome + \" la tua energia è \" + str(energia))"
   ]
  },
  {
   "cell_type": "code",
   "execution_count": 80,
   "metadata": {},
   "outputs": [
    {
     "name": "stdout",
     "output_type": "stream",
     "text": [
      "Ciaocry, il numero segreto era: \n"
     ]
    },
    {
     "ename": "TypeError",
     "evalue": "unsupported operand type(s) for +: 'NoneType' and 'str'",
     "output_type": "error",
     "traceback": [
      "\u001b[1;31m---------------------------------------------------------------------------\u001b[0m",
      "\u001b[1;31mTypeError\u001b[0m                                 Traceback (most recent call last)",
      "\u001b[1;32mUntitled-1.ipynb Cell 16\u001b[0m line \u001b[0;36m5\n\u001b[0;32m      <a href='vscode-notebook-cell:Untitled-1.ipynb?jupyter-notebook#X25sdW50aXRsZWQ%3D?line=2'>3</a>\u001b[0m numero_utente \u001b[39m=\u001b[39m \u001b[39mint\u001b[39m(\u001b[39minput\u001b[39m(\u001b[39m\"\u001b[39m\u001b[39mindovina il numero segreto: \u001b[39m\u001b[39m\"\u001b[39m))\n\u001b[0;32m      <a href='vscode-notebook-cell:Untitled-1.ipynb?jupyter-notebook#X25sdW50aXRsZWQ%3D?line=3'>4</a>\u001b[0m risultato \u001b[39m=\u001b[39m numero_utente \u001b[39m==\u001b[39m numero_segreto\n\u001b[1;32m----> <a href='vscode-notebook-cell:Untitled-1.ipynb?jupyter-notebook#X25sdW50aXRsZWQ%3D?line=4'>5</a>\u001b[0m \u001b[39mprint\u001b[39;49m(\u001b[39m\"\u001b[39;49m\u001b[39mCiao\u001b[39;49m\u001b[39m\"\u001b[39;49m \u001b[39m+\u001b[39;49m nome \u001b[39m+\u001b[39;49m \u001b[39m\"\u001b[39;49m\u001b[39m, il numero segreto era: \u001b[39;49m\u001b[39m\"\u001b[39;49m) \u001b[39m+\u001b[39;49m \u001b[39mstr\u001b[39;49m(numero_segreto) \u001b[39m+\u001b[39m \u001b[39m\"\u001b[39m\u001b[39m. Hai indovinato?\u001b[39m\u001b[39m\"\u001b[39m \u001b[39m+\u001b[39m \u001b[39mstr\u001b[39m(risultato)\n",
      "\u001b[1;31mTypeError\u001b[0m: unsupported operand type(s) for +: 'NoneType' and 'str'"
     ]
    }
   ],
   "source": [
    "nome = input(\"Ciao, come ti chiami?\")\n",
    "numero_segreto = 42\n",
    "numero_utente = int(input(\"indovina il numero segreto: \"))\n",
    "risultato = numero_utente == numero_segreto\n",
    "print(\"Ciao\" + nome + \", il numer0 segreto era: \") + str(numero_segreto) + \". Hai indovinato?\" + str(risultato)"
   ]
  }
 ],
 "metadata": {
  "kernelspec": {
   "display_name": "Python 3",
   "language": "python",
   "name": "python3"
  },
  "language_info": {
   "codemirror_mode": {
    "name": "ipython",
    "version": 3
   },
   "file_extension": ".py",
   "mimetype": "text/x-python",
   "name": "python",
   "nbconvert_exporter": "python",
   "pygments_lexer": "ipython3",
   "version": "3.12.0"
  }
 },
 "nbformat": 4,
 "nbformat_minor": 2
}
